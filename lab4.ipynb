{
  "cells": [
    {
      "cell_type": "markdown",
      "metadata": {},
      "source": [
        "### BERT - Bidirectional Encoder Representations from Transformers"
      ]
    },
    {
      "cell_type": "code",
      "execution_count": 1,
      "metadata": {
        "colab": {
          "base_uri": "https://localhost:8080/"
        },
        "id": "QCTz1QYLSBLo",
        "outputId": "f0d2b278-c502-4e9e-8d0f-d8fbe3a07260"
      },
      "outputs": [
        {
          "name": "stdout",
          "output_type": "stream",
          "text": [
            "Requirement already satisfied: torch in c:\\users\\khaye\\appdata\\local\\programs\\python\\python38\\lib\\site-packages (2.4.1)\n",
            "Requirement already satisfied: torchvision in c:\\users\\khaye\\appdata\\local\\programs\\python\\python38\\lib\\site-packages (0.19.1)\n",
            "Requirement already satisfied: matplotlib in c:\\users\\khaye\\appdata\\local\\programs\\python\\python38\\lib\\site-packages (3.7.5)\n",
            "Requirement already satisfied: numpy in c:\\users\\khaye\\appdata\\local\\programs\\python\\python38\\lib\\site-packages (1.24.4)\n",
            "Requirement already satisfied: scikit-learn in c:\\users\\khaye\\appdata\\local\\programs\\python\\python38\\lib\\site-packages (1.3.2)\n",
            "Requirement already satisfied: seaborn in c:\\users\\khaye\\appdata\\local\\programs\\python\\python38\\lib\\site-packages (0.13.2)\n",
            "Requirement already satisfied: transformers in c:\\users\\khaye\\appdata\\local\\programs\\python\\python38\\lib\\site-packages (4.46.3)\n",
            "Requirement already satisfied: filelock in c:\\users\\khaye\\appdata\\local\\programs\\python\\python38\\lib\\site-packages (from torch) (3.16.1)\n",
            "Requirement already satisfied: typing-extensions>=4.8.0 in c:\\users\\khaye\\appdata\\local\\programs\\python\\python38\\lib\\site-packages (from torch) (4.12.2)\n",
            "Requirement already satisfied: sympy in c:\\users\\khaye\\appdata\\local\\programs\\python\\python38\\lib\\site-packages (from torch) (1.13.3)\n",
            "Requirement already satisfied: networkx in c:\\users\\khaye\\appdata\\local\\programs\\python\\python38\\lib\\site-packages (from torch) (3.1)\n",
            "Requirement already satisfied: jinja2 in c:\\users\\khaye\\appdata\\local\\programs\\python\\python38\\lib\\site-packages (from torch) (3.1.5)\n",
            "Requirement already satisfied: fsspec in c:\\users\\khaye\\appdata\\local\\programs\\python\\python38\\lib\\site-packages (from torch) (2025.2.0)\n",
            "Requirement already satisfied: pillow!=8.3.*,>=5.3.0 in c:\\users\\khaye\\appdata\\local\\programs\\python\\python38\\lib\\site-packages (from torchvision) (10.4.0)\n",
            "Requirement already satisfied: contourpy>=1.0.1 in c:\\users\\khaye\\appdata\\local\\programs\\python\\python38\\lib\\site-packages (from matplotlib) (1.1.1)\n",
            "Requirement already satisfied: cycler>=0.10 in c:\\users\\khaye\\appdata\\local\\programs\\python\\python38\\lib\\site-packages (from matplotlib) (0.12.1)\n",
            "Requirement already satisfied: fonttools>=4.22.0 in c:\\users\\khaye\\appdata\\local\\programs\\python\\python38\\lib\\site-packages (from matplotlib) (4.55.8)\n",
            "Requirement already satisfied: kiwisolver>=1.0.1 in c:\\users\\khaye\\appdata\\local\\programs\\python\\python38\\lib\\site-packages (from matplotlib) (1.4.7)\n",
            "Requirement already satisfied: packaging>=20.0 in c:\\users\\khaye\\appdata\\local\\programs\\python\\python38\\lib\\site-packages (from matplotlib) (24.2)\n",
            "Requirement already satisfied: pyparsing>=2.3.1 in c:\\users\\khaye\\appdata\\local\\programs\\python\\python38\\lib\\site-packages (from matplotlib) (3.1.4)\n",
            "Requirement already satisfied: python-dateutil>=2.7 in c:\\users\\khaye\\appdata\\local\\programs\\python\\python38\\lib\\site-packages (from matplotlib) (2.9.0.post0)\n",
            "Requirement already satisfied: importlib-resources>=3.2.0 in c:\\users\\khaye\\appdata\\local\\programs\\python\\python38\\lib\\site-packages (from matplotlib) (6.4.5)\n",
            "Requirement already satisfied: scipy>=1.5.0 in c:\\users\\khaye\\appdata\\local\\programs\\python\\python38\\lib\\site-packages (from scikit-learn) (1.10.1)\n",
            "Requirement already satisfied: joblib>=1.1.1 in c:\\users\\khaye\\appdata\\local\\programs\\python\\python38\\lib\\site-packages (from scikit-learn) (1.4.2)\n",
            "Requirement already satisfied: threadpoolctl>=2.0.0 in c:\\users\\khaye\\appdata\\local\\programs\\python\\python38\\lib\\site-packages (from scikit-learn) (3.5.0)\n",
            "Requirement already satisfied: pandas>=1.2 in c:\\users\\khaye\\appdata\\local\\programs\\python\\python38\\lib\\site-packages (from seaborn) (2.0.3)\n",
            "Requirement already satisfied: huggingface-hub<1.0,>=0.23.2 in c:\\users\\khaye\\appdata\\local\\programs\\python\\python38\\lib\\site-packages (from transformers) (0.30.2)\n",
            "Requirement already satisfied: pyyaml>=5.1 in c:\\users\\khaye\\appdata\\local\\programs\\python\\python38\\lib\\site-packages (from transformers) (6.0.2)\n",
            "Requirement already satisfied: regex!=2019.12.17 in c:\\users\\khaye\\appdata\\local\\programs\\python\\python38\\lib\\site-packages (from transformers) (2024.11.6)\n",
            "Requirement already satisfied: requests in c:\\users\\khaye\\appdata\\local\\programs\\python\\python38\\lib\\site-packages (from transformers) (2.32.3)\n",
            "Requirement already satisfied: tokenizers<0.21,>=0.20 in c:\\users\\khaye\\appdata\\local\\programs\\python\\python38\\lib\\site-packages (from transformers) (0.20.3)\n",
            "Requirement already satisfied: safetensors>=0.4.1 in c:\\users\\khaye\\appdata\\local\\programs\\python\\python38\\lib\\site-packages (from transformers) (0.5.3)\n",
            "Requirement already satisfied: tqdm>=4.27 in c:\\users\\khaye\\appdata\\local\\programs\\python\\python38\\lib\\site-packages (from transformers) (4.67.1)\n",
            "Requirement already satisfied: zipp>=3.1.0 in c:\\users\\khaye\\appdata\\local\\programs\\python\\python38\\lib\\site-packages (from importlib-resources>=3.2.0->matplotlib) (3.20.2)\n",
            "Requirement already satisfied: pytz>=2020.1 in c:\\users\\khaye\\appdata\\local\\programs\\python\\python38\\lib\\site-packages (from pandas>=1.2->seaborn) (2025.1)\n",
            "Requirement already satisfied: tzdata>=2022.1 in c:\\users\\khaye\\appdata\\local\\programs\\python\\python38\\lib\\site-packages (from pandas>=1.2->seaborn) (2025.1)\n",
            "Requirement already satisfied: six>=1.5 in c:\\users\\khaye\\appdata\\local\\programs\\python\\python38\\lib\\site-packages (from python-dateutil>=2.7->matplotlib) (1.17.0)\n",
            "Requirement already satisfied: colorama in c:\\users\\khaye\\appdata\\local\\programs\\python\\python38\\lib\\site-packages (from tqdm>=4.27->transformers) (0.4.6)\n",
            "Requirement already satisfied: MarkupSafe>=2.0 in c:\\users\\khaye\\appdata\\local\\programs\\python\\python38\\lib\\site-packages (from jinja2->torch) (2.1.5)\n",
            "Requirement already satisfied: charset-normalizer<4,>=2 in c:\\users\\khaye\\appdata\\local\\programs\\python\\python38\\lib\\site-packages (from requests->transformers) (3.4.1)\n",
            "Requirement already satisfied: idna<4,>=2.5 in c:\\users\\khaye\\appdata\\local\\programs\\python\\python38\\lib\\site-packages (from requests->transformers) (3.10)\n",
            "Requirement already satisfied: urllib3<3,>=1.21.1 in c:\\users\\khaye\\appdata\\local\\programs\\python\\python38\\lib\\site-packages (from requests->transformers) (2.2.3)\n",
            "Requirement already satisfied: certifi>=2017.4.17 in c:\\users\\khaye\\appdata\\local\\programs\\python\\python38\\lib\\site-packages (from requests->transformers) (2025.1.31)\n",
            "Requirement already satisfied: mpmath<1.4,>=1.1.0 in c:\\users\\khaye\\appdata\\local\\programs\\python\\python38\\lib\\site-packages (from sympy->torch) (1.3.0)\n",
            "Note: you may need to restart the kernel to use updated packages.\n"
          ]
        },
        {
          "name": "stderr",
          "output_type": "stream",
          "text": [
            "\n",
            "[notice] A new release of pip is available: 25.0 -> 25.0.1\n",
            "[notice] To update, run: python.exe -m pip install --upgrade pip\n"
          ]
        }
      ],
      "source": [
        "# импорт пакетов\n",
        "%pip install torch torchvision matplotlib numpy scikit-learn seaborn transformers"
      ]
    },
    {
      "cell_type": "markdown",
      "metadata": {
        "id": "MvjbpkMVUcMO"
      },
      "source": [
        "### Importing necessary libraries"
      ]
    },
    {
      "cell_type": "code",
      "execution_count": 2,
      "metadata": {
        "id": "0wMhjfxZSBLq"
      },
      "outputs": [
        {
          "name": "stderr",
          "output_type": "stream",
          "text": [
            "c:\\Users\\khaye\\AppData\\Local\\Programs\\Python\\Python38\\lib\\site-packages\\tqdm\\auto.py:21: TqdmWarning: IProgress not found. Please update jupyter and ipywidgets. See https://ipywidgets.readthedocs.io/en/stable/user_install.html\n",
            "  from .autonotebook import tqdm as notebook_tqdm\n"
          ]
        }
      ],
      "source": [
        "import torch\n",
        "import torch.nn as nn\n",
        "import torch.optim as optim\n",
        "import torch.nn.functional as F\n",
        "import numpy as np\n",
        "import pandas as pd\n",
        "from transformers import AutoTokenizer, AutoModel\n",
        "from torch.utils.data import Dataset, DataLoader\n",
        "from sklearn.model_selection import train_test_split\n",
        "from sklearn.metrics import accuracy_score, f1_score, roc_auc_score, average_precision_score"
      ]
    },
    {
      "cell_type": "code",
      "execution_count": 3,
      "metadata": {
        "colab": {
          "base_uri": "https://localhost:8080/"
        },
        "id": "jZzwB7AbSBLs",
        "outputId": "aa3c3bfe-0f85-4b45-a16b-f92919050c69"
      },
      "outputs": [
        {
          "name": "stdout",
          "output_type": "stream",
          "text": [
            "Используемое устройство: cpu\n"
          ]
        }
      ],
      "source": [
        "device = torch.device('cuda' if torch.cuda.is_available() else 'cpu')\n",
        "print(\"Используемое устройство:\", device)"
      ]
    },
    {
      "cell_type": "markdown",
      "metadata": {
        "id": "8W83lHz5UmI3"
      },
      "source": [
        "### Outputting the first 10 comments to see structure of dataset"
      ]
    },
    {
      "cell_type": "code",
      "execution_count": 4,
      "metadata": {
        "colab": {
          "base_uri": "https://localhost:8080/",
          "height": 363
        },
        "id": "nuHLM6vZSBLs",
        "outputId": "2bbada7c-5c29-41ea-fdff-788d52c0dba1"
      },
      "outputs": [
        {
          "data": {
            "text/html": [
              "<div>\n",
              "<style scoped>\n",
              "    .dataframe tbody tr th:only-of-type {\n",
              "        vertical-align: middle;\n",
              "    }\n",
              "\n",
              "    .dataframe tbody tr th {\n",
              "        vertical-align: top;\n",
              "    }\n",
              "\n",
              "    .dataframe thead th {\n",
              "        text-align: right;\n",
              "    }\n",
              "</style>\n",
              "<table border=\"1\" class=\"dataframe\">\n",
              "  <thead>\n",
              "    <tr style=\"text-align: right;\">\n",
              "      <th></th>\n",
              "      <th>comment</th>\n",
              "      <th>toxic</th>\n",
              "    </tr>\n",
              "  </thead>\n",
              "  <tbody>\n",
              "    <tr>\n",
              "      <th>0</th>\n",
              "      <td>Верблюдов-то за что? Дебилы, бл...\\n</td>\n",
              "      <td>1.0</td>\n",
              "    </tr>\n",
              "    <tr>\n",
              "      <th>1</th>\n",
              "      <td>Хохлы, это отдушина затюканого россиянина, мол...</td>\n",
              "      <td>1.0</td>\n",
              "    </tr>\n",
              "    <tr>\n",
              "      <th>2</th>\n",
              "      <td>Собаке - собачья смерть\\n</td>\n",
              "      <td>1.0</td>\n",
              "    </tr>\n",
              "    <tr>\n",
              "      <th>3</th>\n",
              "      <td>Страницу обнови, дебил. Это тоже не оскорблени...</td>\n",
              "      <td>1.0</td>\n",
              "    </tr>\n",
              "    <tr>\n",
              "      <th>4</th>\n",
              "      <td>тебя не убедил 6-страничный пдф в том, что Скр...</td>\n",
              "      <td>1.0</td>\n",
              "    </tr>\n",
              "    <tr>\n",
              "      <th>5</th>\n",
              "      <td>Для каких стан является эталоном современная с...</td>\n",
              "      <td>1.0</td>\n",
              "    </tr>\n",
              "    <tr>\n",
              "      <th>6</th>\n",
              "      <td>В шапке были ссылки на инфу по текущему фильму...</td>\n",
              "      <td>0.0</td>\n",
              "    </tr>\n",
              "    <tr>\n",
              "      <th>7</th>\n",
              "      <td>УПАД Т! ТАМ НЕЛЬЗЯ СТРОИТЬ! ТЕХНОЛОГИЙ НЕТ! РА...</td>\n",
              "      <td>1.0</td>\n",
              "    </tr>\n",
              "    <tr>\n",
              "      <th>8</th>\n",
              "      <td>Ебать тебя разносит, шизик.\\n</td>\n",
              "      <td>1.0</td>\n",
              "    </tr>\n",
              "    <tr>\n",
              "      <th>9</th>\n",
              "      <td>Обосрался, сиди обтекай\\n</td>\n",
              "      <td>1.0</td>\n",
              "    </tr>\n",
              "  </tbody>\n",
              "</table>\n",
              "</div>"
            ],
            "text/plain": [
              "                                             comment  toxic\n",
              "0               Верблюдов-то за что? Дебилы, бл...\\n    1.0\n",
              "1  Хохлы, это отдушина затюканого россиянина, мол...    1.0\n",
              "2                          Собаке - собачья смерть\\n    1.0\n",
              "3  Страницу обнови, дебил. Это тоже не оскорблени...    1.0\n",
              "4  тебя не убедил 6-страничный пдф в том, что Скр...    1.0\n",
              "5  Для каких стан является эталоном современная с...    1.0\n",
              "6  В шапке были ссылки на инфу по текущему фильму...    0.0\n",
              "7  УПАД Т! ТАМ НЕЛЬЗЯ СТРОИТЬ! ТЕХНОЛОГИЙ НЕТ! РА...    1.0\n",
              "8                      Ебать тебя разносит, шизик.\\n    1.0\n",
              "9                          Обосрался, сиди обтекай\\n    1.0"
            ]
          },
          "execution_count": 4,
          "metadata": {},
          "output_type": "execute_result"
        }
      ],
      "source": [
        "# Enable cuDNN optimizations\n",
        "torch.backends.cudnn.benchmark = True\n",
        "\n",
        "# Load dataset\n",
        "df = pd.read_csv(\"dataset/labeled.csv\")\n",
        "df = df.dropna()\n",
        "\n",
        "df.head(10)"
      ]
    },
    {
      "cell_type": "markdown",
      "metadata": {
        "id": "W8WijR8nUv3E"
      },
      "source": [
        "### Tokenizer from Hugging Face"
      ]
    },
    {
      "cell_type": "code",
      "execution_count": 5,
      "metadata": {
        "id": "paMHQ2fRSBLt"
      },
      "outputs": [],
      "source": [
        "X = df[\"comment\"].values\n",
        "y = df[\"toxic\"].values\n",
        "\n",
        "# Tokenizer\n",
        "tokenizer = AutoTokenizer.from_pretrained(\"ai-forever/ruBert-base\")\n",
        "MAX_LEN = 128\n",
        "\n",
        "def tokenize(text):\n",
        "    return tokenizer(text, padding='max_length', truncation=True, max_length=MAX_LEN, return_tensors='pt')"
      ]
    },
    {
      "cell_type": "code",
      "execution_count": 6,
      "metadata": {
        "id": "TuvAQQQiSBLu"
      },
      "outputs": [],
      "source": [
        "# Dataset class\n",
        "class ToxicDataset(Dataset):\n",
        "    def __init__(self, texts, labels):\n",
        "        self.texts = texts\n",
        "        self.labels = labels\n",
        "\n",
        "    def __len__(self):\n",
        "        return len(self.texts)\n",
        "\n",
        "    def __getitem__(self, idx):\n",
        "        text = self.texts[idx]\n",
        "        label = self.labels[idx]\n",
        "        encoding = tokenize(text)\n",
        "\n",
        "        return {\n",
        "             \"text\": text,\n",
        "            \"input_ids\": encoding[\"input_ids\"].squeeze(0),\n",
        "            \"attention_mask\": encoding[\"attention_mask\"].squeeze(0),\n",
        "            \"label\": torch.tensor(label, dtype=torch.float)\n",
        "        }"
      ]
    },
    {
      "cell_type": "markdown",
      "metadata": {
        "id": "NbZAoQ3DU5u5"
      },
      "source": [
        "### Splitting training and testing datasets"
      ]
    },
    {
      "cell_type": "code",
      "execution_count": 7,
      "metadata": {
        "colab": {
          "base_uri": "https://localhost:8080/"
        },
        "id": "5I88jcALSBLu",
        "outputId": "3a641d98-bb1f-4cff-ce96-c9eec0ad1c35"
      },
      "outputs": [],
      "source": [
        "# Train-test split\n",
        "X_train, X_val, y_train, y_val = train_test_split(X, y, test_size=0.2, stratify=y, random_state=42)\n",
        "train_dataset = ToxicDataset(X_train, y_train)\n",
        "val_dataset = ToxicDataset(X_val, y_val)\n",
        "\n",
        "train_loader = DataLoader(train_dataset, batch_size=32, shuffle=True, num_workers=4, pin_memory=True)\n",
        "val_loader = DataLoader(val_dataset, batch_size=32, shuffle=False, num_workers=4, pin_memory=True)"
      ]
    },
    {
      "cell_type": "code",
      "execution_count": 8,
      "metadata": {
        "colab": {
          "base_uri": "https://localhost:8080/"
        },
        "id": "-gGs3E7YK0TC",
        "outputId": "c7fb478b-5ff2-4400-a0dc-b9f59876a531"
      },
      "outputs": [
        {
          "name": "stdout",
          "output_type": "stream",
          "text": [
            "Training Dataset Size: 11529\n",
            "Validation Dataset Size: 2883\n"
          ]
        }
      ],
      "source": [
        "# Print dataset sizes\n",
        "print(f\"Training Dataset Size: {len(train_dataset)}\")\n",
        "print(f\"Validation Dataset Size: {len(val_dataset)}\")\n",
        "\n",
        "train_labels = [sample['label'] for sample in train_dataset]\n",
        "val_labels = [sample['label'] for sample in val_dataset]\n"
      ]
    },
    {
      "cell_type": "markdown",
      "metadata": {
        "id": "9JQVx7f6VD8C"
      },
      "source": [
        "### Checking distribution of classes (might need to either undersampling or oversampling)"
      ]
    },
    {
      "cell_type": "code",
      "execution_count": 9,
      "metadata": {
        "colab": {
          "base_uri": "https://localhost:8080/",
          "height": 927
        },
        "id": "IrTmIRQHLJpt",
        "outputId": "d09acc19-4694-4471-a2ce-946549b9d389"
      },
      "outputs": [
        {
          "data": {
            "image/png": "[encoded data removed]",
            "text/plain": [
              "<Figure size 640x480 with 1 Axes>"
            ]
          },
          "metadata": {},
          "output_type": "display_data"
        },
        {
          "data": {
            "image/png": "[encoded data removed]",
            "text/plain": [
              "<Figure size 640x480 with 1 Axes>"
            ]
          },
          "metadata": {},
          "output_type": "display_data"
        }
      ],
      "source": [
        "import matplotlib.pyplot as plt\n",
        "import seaborn as sns\n",
        "\n",
        "# Plot class distribution in the training dataset\n",
        "sns.countplot(x=train_labels)\n",
        "plt.title(\"Training Dataset Class Distribution\")\n",
        "plt.xlabel(\"Label\")\n",
        "plt.ylabel(\"Count\")\n",
        "plt.show()\n",
        "\n",
        "# Plot class distribution in the validation dataset\n",
        "sns.countplot(x=val_labels)\n",
        "plt.title(\"Validation Dataset Class Distribution\")\n",
        "plt.xlabel(\"Label\")\n",
        "plt.ylabel(\"Count\")\n",
        "plt.show()"
      ]
    },
    {
      "cell_type": "code",
      "execution_count": 10,
      "metadata": {
        "colab": {
          "base_uri": "https://localhost:8080/"
        },
        "id": "GiDBpTMuLRgo",
        "outputId": "41f65683-57f4-4deb-abf5-0c2ba436e19f"
      },
      "outputs": [
        {
          "name": "stdout",
          "output_type": "stream",
          "text": [
            "Training Dataset Samples:\n",
            "Sample 1:\n",
            "  Text: Вы читали закон о банкротстве? Что бы объявить банкротом нужно обратиться в Арбитражный суд с соответствующим заявлением, далее суд потребует внести на свой депозит сумму, обычно не менее 300т.р для обеспечения выплат арбитражному управляющему, если сумма не вносится, то в возбуждение дела о банкротстве откажут. Поэтому надо подавать в суд, затем исполнительный лист приставам и требовать наложение ареста на расчетный счет и если повезет, то появившиеся на счету деньги перечислят истцу.\n",
            "\n",
            "  Attention Masks: tensor([1, 1, 1, 1, 1, 1, 1, 1, 1, 1, 1, 1, 1, 1, 1, 1, 1, 1, 1, 1, 1, 1, 1, 1,\n",
            "        1, 1, 1, 1, 1, 1, 1, 1, 1, 1, 1, 1, 1, 1, 1, 1, 1, 1, 1, 1, 1, 1, 1, 1,\n",
            "        1, 1, 1, 1, 1, 1, 1, 1, 1, 1, 1, 1, 1, 1, 1, 1, 1, 1, 1, 1, 1, 1, 1, 1,\n",
            "        1, 1, 1, 1, 1, 1, 1, 1, 1, 1, 1, 1, 1, 1, 1, 1, 1, 1, 1, 1, 1, 1, 1, 1,\n",
            "        1, 0, 0, 0, 0, 0, 0, 0, 0, 0, 0, 0, 0, 0, 0, 0, 0, 0, 0, 0, 0, 0, 0, 0,\n",
            "        0, 0, 0, 0, 0, 0, 0, 0])\n",
            "  Label: 0.0\n",
            "--------------------------------------------------\n",
            "Sample 2:\n",
            "  Text: а у сяоми это постоянно\n",
            "  Attention Masks: tensor([1, 1, 1, 1, 1, 1, 1, 1, 0, 0, 0, 0, 0, 0, 0, 0, 0, 0, 0, 0, 0, 0, 0, 0,\n",
            "        0, 0, 0, 0, 0, 0, 0, 0, 0, 0, 0, 0, 0, 0, 0, 0, 0, 0, 0, 0, 0, 0, 0, 0,\n",
            "        0, 0, 0, 0, 0, 0, 0, 0, 0, 0, 0, 0, 0, 0, 0, 0, 0, 0, 0, 0, 0, 0, 0, 0,\n",
            "        0, 0, 0, 0, 0, 0, 0, 0, 0, 0, 0, 0, 0, 0, 0, 0, 0, 0, 0, 0, 0, 0, 0, 0,\n",
            "        0, 0, 0, 0, 0, 0, 0, 0, 0, 0, 0, 0, 0, 0, 0, 0, 0, 0, 0, 0, 0, 0, 0, 0,\n",
            "        0, 0, 0, 0, 0, 0, 0, 0])\n",
            "  Label: 0.0\n",
            "--------------------------------------------------\n",
            "Sample 3:\n",
            "  Text: Хотел занять? Тогда да,проще позвонить , чем у кого то занимать..шорт побьяри! Откеля у меня в башке это??\n",
            "\n",
            "  Attention Masks: tensor([1, 1, 1, 1, 1, 1, 1, 1, 1, 1, 1, 1, 1, 1, 1, 1, 1, 1, 1, 1, 1, 1, 1, 1,\n",
            "        1, 1, 1, 1, 1, 1, 1, 1, 0, 0, 0, 0, 0, 0, 0, 0, 0, 0, 0, 0, 0, 0, 0, 0,\n",
            "        0, 0, 0, 0, 0, 0, 0, 0, 0, 0, 0, 0, 0, 0, 0, 0, 0, 0, 0, 0, 0, 0, 0, 0,\n",
            "        0, 0, 0, 0, 0, 0, 0, 0, 0, 0, 0, 0, 0, 0, 0, 0, 0, 0, 0, 0, 0, 0, 0, 0,\n",
            "        0, 0, 0, 0, 0, 0, 0, 0, 0, 0, 0, 0, 0, 0, 0, 0, 0, 0, 0, 0, 0, 0, 0, 0,\n",
            "        0, 0, 0, 0, 0, 0, 0, 0])\n",
            "  Label: 1.0\n",
            "--------------------------------------------------\n",
            "Validation Dataset Samples:\n",
            "Sample 1:\n",
            "  Attention Masks: tensor([1, 1, 1, 1, 1, 1, 1, 1, 1, 1, 1, 1, 1, 1, 1, 1, 1, 1, 1, 1, 1, 1, 1, 1,\n",
            "        1, 1, 1, 1, 1, 1, 1, 1, 1, 1, 1, 1, 1, 1, 1, 1, 1, 1, 1, 1, 1, 1, 1, 1,\n",
            "        1, 1, 1, 1, 1, 1, 1, 1, 1, 1, 1, 1, 1, 1, 1, 1, 1, 1, 1, 1, 1, 1, 1, 1,\n",
            "        1, 1, 1, 1, 1, 1, 1, 1, 1, 1, 1, 1, 1, 1, 1, 1, 1, 1, 1, 1, 1, 1, 1, 1,\n",
            "        1, 1, 1, 1, 1, 1, 1, 1, 1, 1, 1, 1, 1, 1, 1, 1, 1, 1, 1, 1, 1, 1, 1, 1,\n",
            "        1, 1, 1, 1, 1, 0, 0, 0])\n",
            "  Text: Увы-увы. Для этого нужно придумать сверхъестественные силы. А для этого нужно, как минимум, знать, какие силы сверхъестественные, а какие - нет. А зачем? Вон, в Африке верили что если сделать вышку из пальмы и посадить на неё человека с наушниками из кокоса, то несомненно прилетят великие духи и сбросят с неба парашют с грузом консервов. У белых это работало, значит, и у нас получится!Силы, что характерно, вполне реальные и называются ВВС США. А вот отношение к ним в культе карго - вполне себе мистическое и ритуализированное.\n",
            "\n",
            "  Label: 0.0\n",
            "--------------------------------------------------\n",
            "Sample 2:\n",
            "  Attention Masks: tensor([1, 1, 1, 1, 1, 1, 1, 1, 1, 1, 0, 0, 0, 0, 0, 0, 0, 0, 0, 0, 0, 0, 0, 0,\n",
            "        0, 0, 0, 0, 0, 0, 0, 0, 0, 0, 0, 0, 0, 0, 0, 0, 0, 0, 0, 0, 0, 0, 0, 0,\n",
            "        0, 0, 0, 0, 0, 0, 0, 0, 0, 0, 0, 0, 0, 0, 0, 0, 0, 0, 0, 0, 0, 0, 0, 0,\n",
            "        0, 0, 0, 0, 0, 0, 0, 0, 0, 0, 0, 0, 0, 0, 0, 0, 0, 0, 0, 0, 0, 0, 0, 0,\n",
            "        0, 0, 0, 0, 0, 0, 0, 0, 0, 0, 0, 0, 0, 0, 0, 0, 0, 0, 0, 0, 0, 0, 0, 0,\n",
            "        0, 0, 0, 0, 0, 0, 0, 0])\n",
            "  Text: Вы просто не умеете читать между строк.\n",
            "\n",
            "  Label: 0.0\n",
            "--------------------------------------------------\n",
            "Sample 3:\n",
            "  Attention Masks: tensor([1, 1, 1, 1, 1, 1, 1, 1, 1, 1, 1, 1, 1, 1, 1, 1, 1, 1, 1, 1, 1, 1, 1, 1,\n",
            "        1, 1, 1, 1, 1, 1, 1, 1, 1, 1, 1, 1, 1, 1, 1, 1, 1, 1, 1, 1, 1, 1, 1, 1,\n",
            "        1, 1, 1, 1, 1, 1, 1, 1, 1, 1, 1, 1, 1, 1, 1, 1, 1, 1, 1, 1, 1, 1, 1, 1,\n",
            "        1, 1, 1, 1, 1, 1, 1, 1, 1, 1, 1, 1, 1, 1, 1, 1, 1, 1, 1, 1, 1, 1, 1, 1,\n",
            "        1, 1, 1, 1, 1, 1, 1, 1, 1, 1, 1, 1, 1, 0, 0, 0, 0, 0, 0, 0, 0, 0, 0, 0,\n",
            "        0, 0, 0, 0, 0, 0, 0, 0])\n",
            "  Text: СРОЧНА!!!!!!!!!!!!!!!!!!!!!!!!!! ИЗБИЕНИЕ И!З!Б!И!Е!Н!И!Е БЕСПЛАТНА И БЕЗ СМС ПОДПИСЫВАЙТЕСЬ НА КОНАЛ СТАВЬТЕ ЛАЙК ДОНАТЬТЕ ПРОДАЙТЕ ПОЧКУ СДЕЛАЙТЕ БОЧКУ ПОСМОТРИТЕ ВИДЕО Я КАПСОМ НАПИСАЛ ЧТОБЫ ВЫ ПОСМОТРЕЛИ СМОТРИТЕ ЕЩЕ ЕБУЧИХ ВОСКЛИЦАТЕЛЬНЫХ ЗНАКОВ НАСТАВИЛ БЕСПЛАТНО БЕЗ СМС СЛЫШИТЕ БЕСПЛАТНА И БЕЗ С М С СМОТРЕТЬ ОНЛАЙН ОФЛАЙН ХУЙЛАЙН\n",
            "\n",
            "  Label: 1.0\n",
            "--------------------------------------------------\n"
          ]
        }
      ],
      "source": [
        "# Print a few samples from the training dataset\n",
        "print(\"Training Dataset Samples:\")\n",
        "for i in range(3):  # Print first 3 samples\n",
        "    sample = train_dataset[i]\n",
        "    print(f\"Sample {i+1}:\")\n",
        "    print(f\"  Text: {sample['text']}\")\n",
        "    print(f\"  Attention Masks: {sample['attention_mask']}\")\n",
        "    print(f\"  Label: {sample['label']}\")\n",
        "    print(\"-\" * 50)\n",
        "\n",
        "# Print a few samples from the validation dataset\n",
        "print(\"Validation Dataset Samples:\")\n",
        "for i in range(3):  # Print first 3 samples\n",
        "    sample = val_dataset[i]\n",
        "    print(f\"Sample {i+1}:\")\n",
        "    print(f\"  Attention Masks: {sample['attention_mask']}\")\n",
        "    print(f\"  Text: {sample['text']}\")\n",
        "    print(f\"  Label: {sample['label']}\")\n",
        "    print(\"-\" * 50)"
      ]
    },
    {
      "cell_type": "markdown",
      "metadata": {
        "id": "TQMYobAZVOjt"
      },
      "source": [
        "### Oversampling to match majority class"
      ]
    },
    {
      "cell_type": "code",
      "execution_count": 11,
      "metadata": {
        "colab": {
          "base_uri": "https://localhost:8080/"
        },
        "id": "Le7SXKeCK_SZ",
        "outputId": "9a952405-38f3-4728-98d1-639959b0d0b0"
      },
      "outputs": [],
      "source": [
        "from sklearn.utils import resample\n",
        "\n",
        "# Separate the majority and minority classes\n",
        "df_train = pd.DataFrame({'text': X_train, 'label': y_train})\n",
        "df_majority = df_train[df_train['label'] == 0]  # Toxic comments\n",
        "df_minority = df_train[df_train['label'] == 1]  # Positive comments\n",
        "\n",
        "# Oversample the minority class\n",
        "df_minority_oversampled = resample(df_minority,\n",
        "                                   replace=True,  # With replacement\n",
        "                                   n_samples=len(df_majority),  # Match majority class size\n",
        "                                   random_state=42)\n",
        "\n",
        "# Combine the oversampled minority class with the majority class\n",
        "df_balanced = pd.concat([df_majority, df_minority_oversampled])\n",
        "\n",
        "# Shuffle the dataset\n",
        "df_balanced = df_balanced.sample(frac=1, random_state=42)\n",
        "\n",
        "# Split back into X_train and y_train\n",
        "X_train_balanced = df_balanced['text'].values\n",
        "y_train_balanced = df_balanced['label'].values\n",
        "\n",
        "# Create a new balanced dataset\n",
        "train_dataset_balanced = ToxicDataset(X_train_balanced, y_train_balanced)\n",
        "train_loader_balanced = DataLoader(train_dataset_balanced, batch_size=32, shuffle=True, num_workers=4, pin_memory=True)"
      ]
    },
    {
      "cell_type": "code",
      "execution_count": null,
      "metadata": {
        "colab": {
          "base_uri": "https://localhost:8080/",
          "height": 927
        },
        "id": "GiCMhTwlQFMi",
        "outputId": "b866f366-0e11-4407-f2ee-5478ab83e7ae"
      },
      "outputs": [],
      "source": [
        "train_labels = [sample['label'] for sample in train_dataset_balanced]\n",
        "val_labels = [sample['label'] for sample in val_dataset]\n",
        "\n",
        "\n",
        "# Plot class distribution in the training dataset\n",
        "sns.countplot(x=train_labels)\n",
        "plt.title(\"Training Dataset Class Distribution\")\n",
        "plt.xlabel(\"Label\")\n",
        "plt.ylabel(\"Count\")\n",
        "plt.show()\n",
        "\n",
        "# Plot class distribution in the validation dataset\n",
        "sns.countplot(x=val_labels)\n",
        "plt.title(\"Validation Dataset Class Distribution\")\n",
        "plt.xlabel(\"Label\")\n",
        "plt.ylabel(\"Count\")\n",
        "plt.show()\n"
      ]
    },
    {
      "cell_type": "markdown",
      "metadata": {
        "id": "t0GiI8SSWI-r"
      },
      "source": [
        "### Custom BERT Model"
      ]
    },
    {
      "cell_type": "code",
      "execution_count": null,
      "metadata": {
        "id": "x_uwhrI_SBLv"
      },
      "outputs": [],
      "source": [
        "class BERTClassifier(nn.Module):\n",
        "    def __init__(self, dropout=0.3):\n",
        "        super(BERTClassifier, self).__init__()\n",
        "        self.bert = AutoModel.from_pretrained(\"ai-forever/ruBert-base\")\n",
        "        self.dropout = nn.Dropout(dropout)\n",
        "        self.fc = nn.Linear(self.bert.config.hidden_size, 1)\n",
        "\n",
        "    def forward(self, input_ids, attention_mask):\n",
        "        outputs = self.bert(input_ids=input_ids, attention_mask=attention_mask)\n",
        "        cls_output = outputs.last_hidden_state[:, 0, :]  # [CLS] token\n",
        "        cls_output = self.dropout(cls_output)\n",
        "        out = self.fc(cls_output)\n",
        "        return out\n"
      ]
    },
    {
      "cell_type": "code",
      "execution_count": null,
      "metadata": {
        "colab": {
          "base_uri": "https://localhost:8080/"
        },
        "id": "gcF3PcEGSBLv",
        "outputId": "b2decbb0-3f4e-4f39-f0fd-e6ca0c951fdb"
      },
      "outputs": [
        {
          "name": "stderr",
          "output_type": "stream",
          "text": [
            "C:\\Users\\khaye\\AppData\\Local\\Temp\\ipykernel_42604\\939891333.py:5: FutureWarning: `torch.cuda.amp.GradScaler(args...)` is deprecated. Please use `torch.amp.GradScaler('cuda', args...)` instead.\n",
            "  scaler = torch.cuda.amp.GradScaler()\n",
            "c:\\Users\\khaye\\AppData\\Local\\Programs\\Python\\Python38\\lib\\site-packages\\torch\\amp\\grad_scaler.py:132: UserWarning: torch.cuda.amp.GradScaler is enabled, but CUDA is not available.  Disabling.\n",
            "  warnings.warn(\n"
          ]
        }
      ],
      "source": [
        "# Training setup\n",
        "model = BERTClassifier().to(device)\n",
        "optimizer = optim.AdamW(model.parameters(), lr=3e-4)\n",
        "criterion = nn.BCEWithLogitsLoss()\n",
        "scaler = torch.amp.GradScaler()\n"
      ]
    },
    {
      "cell_type": "markdown",
      "metadata": {
        "id": "gCQoDMpkWQVU"
      },
      "source": [
        "### Training"
      ]
    },
    {
      "cell_type": "code",
      "execution_count": null,
      "metadata": {
        "id": "ti6Xr_I3SBLv"
      },
      "outputs": [],
      "source": [
        "def train(model, train_loader, criterion, optimizer, epochs=5):\n",
        "    model.train()\n",
        "    for epoch in range(epochs):\n",
        "        total_loss = 0\n",
        "\n",
        "        for batch_idx, batch in enumerate(train_loader):\n",
        "            print(f\"Processing batch {batch + 1}/{len(train_loader)}\")\n",
        "            optimizer.zero_grad()\n",
        "            input_ids = batch[\"input_ids\"].to(device)\n",
        "            attention_mask = batch[\"attention_mask\"].to(device)\n",
        "            labels = batch[\"label\"].to(device)\n",
        "\n",
        "            with torch.amp.autocast():\n",
        "                outputs = model(input_ids, attention_mask)\n",
        "                loss = criterion(outputs.squeeze(), labels)\n",
        "\n",
        "            scaler.scale(loss).backward()\n",
        "            scaler.step(optimizer)\n",
        "            scaler.update()\n",
        "            total_loss += loss.item()\n",
        "\n",
        "        print(f\"Epoch {epoch + 1}, Loss: {total_loss / len(train_loader):.4f}\")\n"
      ]
    },
    {
      "cell_type": "markdown",
      "metadata": {
        "id": "2aVcU7j_WTmE"
      },
      "source": [
        "### Testing"
      ]
    },
    {
      "cell_type": "code",
      "execution_count": null,
      "metadata": {
        "id": "q5mHHx9hSBLw"
      },
      "outputs": [],
      "source": [
        "# Evaluation\n",
        "def evaluate(model, val_loader):\n",
        "    model.eval()\n",
        "    all_preds, all_labels = [], []\n",
        "    original_labels_preds_texts = []  # To store original labels, predictions, and text\n",
        "\n",
        "\n",
        "    with torch.no_grad():\n",
        "        for batch in val_loader:\n",
        "            text, inputs, attention_mask, labels = batch[\"text\"], batch[\"input_ids\"].to(device), batch[\"attention_mask\"].to(device), batch[\"label\"].to(device)\n",
        "\n",
        "            with torch.amp.autocast():\n",
        "                outputs = model(inputs, attention_mask).squeeze()\n",
        "                probs = torch.sigmoid(outputs)\n",
        "                preds = (probs > 0.5).float()\n",
        "\n",
        "            all_preds.extend(preds.cpu().numpy())\n",
        "            all_labels.extend(labels.cpu().numpy())\n",
        "\n",
        "            for i in range(len(labels)):\n",
        "              original_labels_preds_texts.append((labels[i].item(), preds[i].item(), text[i]))\n",
        "\n",
        "    acc = accuracy_score(all_labels, all_preds)\n",
        "    f1 = f1_score(all_labels, all_preds)\n",
        "    roc_auc = roc_auc_score(all_labels, all_preds)\n",
        "    pr_auc = average_precision_score(all_labels, all_preds)\n",
        "\n",
        "    print(f\"Accuracy: {acc}, F1: {f1}, ROC-AUC: {roc_auc}, PR-AUC: {pr_auc}\")\n",
        "\n",
        "     # Print top 10 original labels, predictions, and text\n",
        "    print(\"\\nTop 10 Original Labels, Predictions, and Text:\")\n",
        "    for i, (label, pred, text) in enumerate(original_labels_preds_texts[:10]):\n",
        "        print(f\"Sample {i+1}:\")\n",
        "        print(f\"  Text: {text}\")\n",
        "        print(f\"  Label: {label}, Prediction: {pred}\")\n",
        "        print(\"-\" * 50)  # Separator for readability"
      ]
    },
    {
      "cell_type": "code",
      "execution_count": null,
      "metadata": {
        "colab": {
          "base_uri": "https://localhost:8080/"
        },
        "id": "yO1xBQXeSBLw",
        "outputId": "11266f9b-2b23-4eb7-d625-a6f661ae6977"
      },
      "outputs": [],
      "source": [
        "train(model, train_loader_balanced, criterion, optimizer)"
      ]
    },
    {
      "cell_type": "code",
      "execution_count": null,
      "metadata": {
        "colab": {
          "base_uri": "https://localhost:8080/"
        },
        "id": "6VmV2kqAGPs-",
        "outputId": "e17669e5-08a6-4d3a-ee25-f774999470d7"
      },
      "outputs": [
        {
          "name": "stderr",
          "output_type": "stream",
          "text": [
            "<ipython-input-153-b24329a91540>:12: FutureWarning: `torch.cuda.amp.autocast(args...)` is deprecated. Please use `torch.amp.autocast('cuda', args...)` instead.\n",
            "  with torch.cuda.amp.autocast():\n"
          ]
        },
        {
          "name": "stdout",
          "output_type": "stream",
          "text": [
            "Accuracy: 0.8987166146375304, F1: 0.8469601677148847, ROC-AUC: 0.8834599404604322, PR-AUC: 0.7718940716717717\n",
            "\n",
            "Top 10 Original Labels, Predictions, and Text:\n",
            "Sample 1:\n",
            "  Text: Увы-увы. Для этого нужно придумать сверхъестественные силы. А для этого нужно, как минимум, знать, какие силы сверхъестественные, а какие - нет. А зачем? Вон, в Африке верили что если сделать вышку из пальмы и посадить на неё человека с наушниками из кокоса, то несомненно прилетят великие духи и сбросят с неба парашют с грузом консервов. У белых это работало, значит, и у нас получится!Силы, что характерно, вполне реальные и называются ВВС США. А вот отношение к ним в культе карго - вполне себе мистическое и ритуализированное.\n",
            "\n",
            "  Label: 0.0, Prediction: 0.0\n",
            "--------------------------------------------------\n",
            "Sample 2:\n",
            "  Text: Вы просто не умеете читать между строк.\n",
            "\n",
            "  Label: 0.0, Prediction: 0.0\n",
            "--------------------------------------------------\n",
            "Sample 3:\n",
            "  Text: СРОЧНА!!!!!!!!!!!!!!!!!!!!!!!!!! ИЗБИЕНИЕ И!З!Б!И!Е!Н!И!Е БЕСПЛАТНА И БЕЗ СМС ПОДПИСЫВАЙТЕСЬ НА КОНАЛ СТАВЬТЕ ЛАЙК ДОНАТЬТЕ ПРОДАЙТЕ ПОЧКУ СДЕЛАЙТЕ БОЧКУ ПОСМОТРИТЕ ВИДЕО Я КАПСОМ НАПИСАЛ ЧТОБЫ ВЫ ПОСМОТРЕЛИ СМОТРИТЕ ЕЩЕ ЕБУЧИХ ВОСКЛИЦАТЕЛЬНЫХ ЗНАКОВ НАСТАВИЛ БЕСПЛАТНО БЕЗ СМС СЛЫШИТЕ БЕСПЛАТНА И БЕЗ С М С СМОТРЕТЬ ОНЛАЙН ОФЛАЙН ХУЙЛАЙН\n",
            "\n",
            "  Label: 1.0, Prediction: 1.0\n",
            "--------------------------------------------------\n",
            "Sample 4:\n",
            "  Text: добби свободен!!!!!!!!!!!!!!!!!!!! ох спасибо тебе добрая внученька!!!!!!!!!!!!!!!!!\n",
            "\n",
            "  Label: 0.0, Prediction: 1.0\n",
            "--------------------------------------------------\n",
            "Sample 5:\n",
            "  Text: Почему-то сразу стадо скачущих свиней на Майдане вспоминается. И срака, в которой сейчас Украинушка.\n",
            "\n",
            "  Label: 1.0, Prediction: 1.0\n",
            "--------------------------------------------------\n",
            "Sample 6:\n",
            "  Text: Не очень дорого для местных - тысяч 15 наверное за 3 года. И кредиты дешёвые\n",
            "\n",
            "  Label: 0.0, Prediction: 0.0\n",
            "--------------------------------------------------\n",
            "Sample 7:\n",
            "  Text: Надо как мститель в маске, переебал по башке и тихо свалил в закат не дожидаясь лавр победителя\n",
            "\n",
            "  Label: 1.0, Prediction: 1.0\n",
            "--------------------------------------------------\n",
            "Sample 8:\n",
            "  Text: кто это вообще, страшная даже дрочить неохота\n",
            "\n",
            "  Label: 1.0, Prediction: 1.0\n",
            "--------------------------------------------------\n",
            "Sample 9:\n",
            "  Text: Каких-каких изуверских практик? Там ежа надо жрать пока его любишь?\n",
            "  Label: 0.0, Prediction: 1.0\n",
            "--------------------------------------------------\n",
            "Sample 10:\n",
            "  Text: Бандиты и наркодилеры будут теперь еще и муслимов крышевать\n",
            "\n",
            "  Label: 1.0, Prediction: 1.0\n",
            "--------------------------------------------------\n"
          ]
        }
      ],
      "source": [
        "evaluate(model, val_loader)"
      ]
    }
  ],
  "metadata": {
    "accelerator": "GPU",
    "colab": {
      "gpuType": "T4",
      "provenance": []
    },
    "kernelspec": {
      "display_name": "Python 3",
      "name": "python3"
    },
    "language_info": {
      "codemirror_mode": {
        "name": "ipython",
        "version": 3
      },
      "file_extension": ".py",
      "mimetype": "text/x-python",
      "name": "python",
      "nbconvert_exporter": "python",
      "pygments_lexer": "ipython3",
      "version": "3.8.0"
    }
  },
  "nbformat": 4,
  "nbformat_minor": 0
}
